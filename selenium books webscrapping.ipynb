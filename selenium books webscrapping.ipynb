{
 "cells": [
  {
   "cell_type": "code",
   "execution_count": 7,
   "id": "53df8798",
   "metadata": {},
   "outputs": [],
   "source": [
    "from selenium import webdriver\n",
    "from selenium.webdriver.common.keys import Keys\n",
    "from selenium.webdriver.common.by import By\n",
    "import time\n"
   ]
  },
  {
   "cell_type": "code",
   "execution_count": 8,
   "id": "1e4a7a2f",
   "metadata": {},
   "outputs": [
    {
     "name": "stderr",
     "output_type": "stream",
     "text": [
      "C:\\Users\\stilinski\\AppData\\Local\\Temp\\ipykernel_10456\\1335547476.py:4: DeprecationWarning: executable_path has been deprecated, please pass in a Service object\n",
      "  driver = webdriver.Chrome( r'C:\\Users\\stilinski\\Downloads\\New folder\\chromedriver.exe')\n"
     ]
    }
   ],
   "source": [
    "# Create a new instance of the Chrome driver\n",
    "# actually to obtain this we have downloaded the google webdriver from Chrome and we hav extracted all \n",
    "#the data into a file in my pc \n",
    "driver = webdriver.Chrome( r'C:\\Users\\stilinski\\Downloads\\New folder\\chromedriver.exe')"
   ]
  },
  {
   "cell_type": "code",
   "execution_count": 9,
   "id": "61094030",
   "metadata": {},
   "outputs": [],
   "source": [
    "# Navigate to the Amazon India whttps://www.amazon.in/ebsite\n",
    "driver.get(\"https://www.amazon.in/\")"
   ]
  },
  {
   "cell_type": "code",
   "execution_count": 10,
   "id": "3b2975aa",
   "metadata": {},
   "outputs": [],
   "source": [
    "# Find the search box element and search for 'books'\n",
    "search_box = driver.find_element(By.XPATH, \"//input[@id='twotabsearchtextbox']\")\n",
    "search_box.send_keys(\"Books\")\n",
    "search_box.submit()\n"
   ]
  },
  {
   "cell_type": "code",
   "execution_count": 11,
   "id": "338bc126",
   "metadata": {},
   "outputs": [
    {
     "name": "stdout",
     "output_type": "stream",
     "text": [
      "Scraping page 1\n"
     ]
    }
   ],
   "source": [
    "title = []\n",
    "name = []\n",
    "ratings = []\n",
    "people =[]\n",
    "book_type= []\n",
    "prices =[]\n",
    "for i in range(1):\n",
    "    print('Scraping page', i+1)\n",
    "    \n",
    "    book_name = driver.find_elements(By.XPATH, \"//span[@class='a-size-base-plus a-color-base a-text-normal']\")\n",
    "    author = driver.find_elements(By.XPATH, \"//a[@class='a-size-base a-link-normal s-underline-text s-underline-link-text s-link-style']\")\n",
    "    rating = driver.find_elements(By.XPATH, \"//span[@class='a-icon-alt']\")\n",
    "    rates=driver.find_elements(By.XPATH, \"//span[@class ='a-size-base s-underline-text']\")\n",
    "    types =driver.find_elements(By.XPATH, \"//a[@class ='a-size-base a-link-normal s-underline-text s-underline-link-text s-link-style a-text-bold']\")\n",
    "    pricess =driver.find_elements(By.XPATH, \"//span[@class ='a-price-whole']\")\n",
    "    for p, price, ratingss,raters,types,pricess in zip(book_name, author, rating,rates,types,pricess):\n",
    "        title.append(p.text)\n",
    "        name.append(price.text)\n",
    "        ratingss = rating[i].get_attribute('innerHTML')\n",
    "        ratings.append(ratingss)\n",
    "        people.append(raters.text)\n",
    "        book_type.append(types.text)\n",
    "        prices.append(pricess.text)\n",
    "        \n",
    "    \n",
    "    next_button = driver.find_element(By.XPATH, \"//span[@class='s-pagination-item s-pagination-ellipsis']\")\n",
    "    next_button.click()"
   ]
  },
  {
   "cell_type": "code",
   "execution_count": 12,
   "id": "9c89e88d",
   "metadata": {},
   "outputs": [
    {
     "name": "stdout",
     "output_type": "stream",
     "text": [
      "                                                Title              Author  \\\n",
      "0      World’s Greatest Classics (Box Set of 4 Books)       Morgan Housel   \n",
      "1                             The Psychology of Money   Francesc Miralles   \n",
      "2        The Best of Sherlock Holmes (Set of 2 Books)      Kindle Edition   \n",
      "3   Best of Children’s Classics (Set of 5 Books): ...   Audible Audiobook   \n",
      "4   Ikigai: The Japanese secret to a long and happ...      Kindle Edition   \n",
      "5   The Power of Your Subconscious Mind (PREMIUM P...       Darius Foroux   \n",
      "6   Think Straight: Change your thoughts, Change y...      Kindle Edition   \n",
      "7   Energize Your Mind: Learn the Art of Mastering...      Gaur Gopal Das   \n",
      "8   Dopamine Detox : A Short Guide to Remove Distr...      Kindle Edition   \n",
      "9   Grandma's Bag of Stories: Collection of 20+ Il...   Audible Audiobook   \n",
      "10  Little Colouring Books for Kids (Set of 10 Boo...           Hardcover   \n",
      "11  Brain Activity Book for Kids - 200+ Activities...   Audible Audiobook   \n",
      "12  My First Library: Boxset of 10 Board Books for...           Paperback   \n",
      "13  My First Book of Pencil Control : Practice Pat...      Kindle Edition   \n",
      "14  My First Mythology Tale (Illustrated) (Set of ...   Audible Audiobook   \n",
      "15                     The Magic Of The Lost Temple**         Maple Press   \n",
      "16                              LIFES AMAZING SECRETS         Maple Press   \n",
      "17  The Subtle Art of Not Giving a F*ck: A Counter...  Wonder House Books   \n",
      "18  Animals Tales From Panchtantra: Timeless Stori...  Wonder House Books   \n",
      "19  Mandala Art: Colouring books for Adults with t...         Maple Press   \n",
      "20                         The Richest Man In Babylon      Kindle Edition   \n",
      "21                                  THE BLUE MOON DAY      Gaur Gopal Das   \n",
      "22             The Upanishads (Deluxe Silk Hardbound)      Kindle Edition   \n",
      "23  The Quick and Easy Way to Effective Speaking [...   Audible Audiobook   \n",
      "24  Brain Activity Book for Kids - 200+ Activities...           Hardcover   \n",
      "25  Moral Story Books for Kids (Set of 10 Books) (...         Mark Manson   \n",
      "26  Brain Activity Book for Kids - 200+ Activities...   Audible Audiobook   \n",
      "27  Phonic Reader (Illustrated) (Set of 6 Books) -...           Hardcover   \n",
      "28  Addition and Subtraction Activity Book For Chi...           Paperback   \n",
      "29  Mandala: Colouring books for Adults with tear ...            Audio CD   \n",
      "30  SSC General Studies 6500 TCS MCQ chapter wise ...  Wonder House Books   \n",
      "31  Picture Books Collection for Early Learning (S...      Kindle Edition   \n",
      "32  SSC Maths 6800 TCS MCQ chapter wise 4th editio...  Wonder House Books   \n",
      "33           365 Maths Activity Book For Kids: Age 5+    George S. Clason   \n",
      "34  World’s Greatest Books For Personal Growth & W...    Santhosh Sivaraj   \n",
      "35  Atomic Habits: the life-changing million-copy ...       Dale Carnegie   \n",
      "36  Death; An Inside Story: A book for all those w...         Maple Press   \n",
      "37  Three Heart-Broken Women on their Quest to Lov...         Maple Press   \n",
      "38  Tuesdays With Morrie: The most uplifting book ...         Maple Press   \n",
      "39                The Power of Your Subconscious Mind  Wonder House Books   \n",
      "40  Anxiety: The Only Book You Will Need To Rewire...      Kindle Edition   \n",
      "41  SSC Reasoning 7200 TCS MCQ chapter wise 4th ed...           Hardcover   \n",
      "42  NTA UGC NET /SET/JRF Paper 1, Teaching and Res...         James Clear   \n",
      "43  The Book Tree Baby Box Gift Set of Small 6 Boa...   Audible Audiobook   \n",
      "44    The Robert Langdon Collection (5 Books Box-Set)           Paperback   \n",
      "45  Self Love: Woman's book for a happy life (happ...            Audio CD   \n",
      "46  Set of Gour Gopal Das Energize Your Mind + Lif...            Sadhguru   \n",
      "47  Pack of 100 हनुमान चालीसा (धार्मिक पुस्तकें) |...           Paperback   \n",
      "48  Lanka ka Yuddh (War Of Lanka) Ram Chandra Seri...         Ava Winters   \n",
      "49  The Book of Five Rings by Miyamoto Musashi - T...         Mitch Albom   \n",
      "50  Accounting Principles, Industrial Relations & ...           Hardcover   \n",
      "51  101 Panchatantra Stories for Children | Bedtim...           Paperback   \n",
      "52  5000 + Daily Use English Sentences | Kanchan K...            Audio CD   \n",
      "53  The Book of Ichigo Ichie: The Art of Making th...     Audio, Cassette   \n",
      "54                            The Hidden Hindu Book 3       Joseph Murphy   \n",
      "55  The Book Thief: TikTok made me buy it! The lif...   Audible Audiobook   \n",
      "56           Milton Hershey (चॉकलेटसम्राटमिल्टनहर्षी)           Hardcover   \n",
      "57        The Midnight Library [Paperback] Haig, Matt           Paperback   \n",
      "\n",
      "                rating total reviews               type price  \n",
      "0   4.5 out of 5 stars         2,105          Paperback   145  \n",
      "1   4.5 out of 5 stars        48,982          Paperback   145  \n",
      "2   4.5 out of 5 stars         2,067          Paperback   459  \n",
      "3   4.5 out of 5 stars         5,888          Paperback   210  \n",
      "4   4.5 out of 5 stars        47,476          Hardcover   389  \n",
      "5   4.5 out of 5 stars         4,489          Paperback   477  \n",
      "6   4.5 out of 5 stars        11,318          Paperback   249  \n",
      "7   4.5 out of 5 stars            34          Paperback    98  \n",
      "8   4.5 out of 5 stars         1,433          Paperback   109  \n",
      "9   4.5 out of 5 stars         4,718     Kindle Edition   500  \n",
      "10  4.5 out of 5 stars        18,804          Paperback   169  \n",
      "11  4.5 out of 5 stars         2,530          Paperback     0  \n",
      "12  4.5 out of 5 stars         3,294          Paperback   188  \n",
      "13  4.5 out of 5 stars        69,143         Board book   210  \n",
      "14  4.5 out of 5 stars        24,165          Paperback   100  \n",
      "15  4.5 out of 5 stars         6,860          Paperback   379  \n",
      "16  4.5 out of 5 stars         8,599          Paperback    79  \n",
      "17  4.5 out of 5 stars        21,394          Paperback   193  \n",
      "18  4.5 out of 5 stars       132,621     Kindle Edition   188  \n",
      "19  4.5 out of 5 stars         4,268          Hardcover   139  \n",
      "20  4.5 out of 5 stars         5,232          Paperback   164  \n",
      "21  4.5 out of 5 stars        41,751          Paperback   179  \n",
      "22  4.5 out of 5 stars           175          Paperback   149  \n",
      "23  4.5 out of 5 stars           608          Hardcover    99  \n",
      "24  4.5 out of 5 stars         4,313          Paperback   149  \n",
      "25  4.5 out of 5 stars            63          Paperback   179  \n",
      "26  4.5 out of 5 stars         1,244          Paperback   108  \n",
      "27  4.5 out of 5 stars           242          Paperback    98  \n",
      "28  4.5 out of 5 stars           173          Paperback   245  \n",
      "29  4.5 out of 5 stars            56          Paperback   100  \n",
      "30  4.5 out of 5 stars         4,021          Paperback   168  \n",
      "31  4.5 out of 5 stars            40          Paperback    99  \n",
      "32  4.5 out of 5 stars        18,328              Cards   140  \n",
      "33  4.5 out of 5 stars            51          Paperback   499  \n",
      "34  4.5 out of 5 stars           185          Paperback   242  \n",
      "35  4.5 out of 5 stars        22,702          Paperback   499  \n",
      "36  4.5 out of 5 stars        77,071     Kindle Edition   149  \n",
      "37  4.5 out of 5 stars        11,684     Kindle Edition   325  \n",
      "38  4.5 out of 5 stars        22,090     Kindle Edition   353  \n",
      "39  4.5 out of 5 stars        73,749     Kindle Edition   107  \n",
      "40  4.5 out of 5 stars            13     Kindle Edition     0  \n",
      "41  4.5 out of 5 stars            28     Kindle Edition   149  \n",
      "42  4.5 out of 5 stars            68          Paperback    75  \n",
      "43  4.5 out of 5 stars           592          Paperback     0  \n",
      "44  4.5 out of 5 stars            11         Board book   499  \n",
      "45  4.5 out of 5 stars            57          Paperback   319  \n",
      "46  4.5 out of 5 stars            86     Kindle Edition   299  \n",
      "47  4.5 out of 5 stars         3,595  Perfect Paperback   980  \n",
      "48  4.5 out of 5 stars           130          Paperback     0  \n",
      "49  4.5 out of 5 stars             5          Paperback   242  \n",
      "50  4.5 out of 5 stars           285     Kindle Edition   989  \n",
      "51  4.5 out of 5 stars         1,450    Unknown Binding   359  \n",
      "52  4.5 out of 5 stars           111          Paperback   116  \n",
      "53  4.5 out of 5 stars        29,315          Paperback   174  \n",
      "54  4.5 out of 5 stars             1     Kindle Edition   293  \n",
      "55  4.5 out of 5 stars       203,404          Paperback   229  \n",
      "56  4.5 out of 5 stars           126     Kindle Edition   322  \n",
      "57  4.5 out of 5 stars            82          Paperback   219  \n"
     ]
    }
   ],
   "source": [
    "import pandas as pd\n",
    "\n",
    "# Create a dictionary from the lists of products and prices\n",
    "data = {'Title': title, 'Author': name, 'rating': ratings, 'total reviews': people, 'type': book_type, 'price': prices}\n",
    "\n",
    "# Create a pandas dataframe from the dictionary\n",
    "df = pd.DataFrame(data)\n",
    "\n",
    "# Save the dataframe to a CSV file named \"books.csv\" in the Documents folder\n",
    "df.to_csv(r'C:\\Users\\stilinski\\OneDrive\\Documents\\books.csv', index=False)\n",
    "\n",
    "# Print the dataframe\n",
    "print(df)\n"
   ]
  },
  {
   "cell_type": "code",
   "execution_count": null,
   "id": "2b943698",
   "metadata": {},
   "outputs": [],
   "source": []
  },
  {
   "cell_type": "code",
   "execution_count": null,
   "id": "c420f164",
   "metadata": {},
   "outputs": [],
   "source": []
  },
  {
   "cell_type": "code",
   "execution_count": null,
   "id": "8f3dff27",
   "metadata": {},
   "outputs": [],
   "source": []
  },
  {
   "cell_type": "code",
   "execution_count": null,
   "id": "51c71d63",
   "metadata": {},
   "outputs": [],
   "source": []
  }
 ],
 "metadata": {
  "kernelspec": {
   "display_name": "Python (learn-env)",
   "language": "python",
   "name": "learn-env"
  },
  "language_info": {
   "codemirror_mode": {
    "name": "ipython",
    "version": 3
   },
   "file_extension": ".py",
   "mimetype": "text/x-python",
   "name": "python",
   "nbconvert_exporter": "python",
   "pygments_lexer": "ipython3",
   "version": "3.9.13"
  }
 },
 "nbformat": 4,
 "nbformat_minor": 5
}
